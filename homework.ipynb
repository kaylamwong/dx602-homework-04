{
  "cells": [
    {
      "cell_type": "markdown",
      "metadata": {
        "id": "Z_pRhVVPp3vD"
      },
      "source": [
        "# DX 602 Week 4 Homework\n",
        "\n"
      ]
    },
    {
      "cell_type": "markdown",
      "metadata": {
        "id": "F1zsR3_xKOUm"
      },
      "source": [
        "## Introduction\n",
        "\n",
        "In this homework, you will practice working with strings to represent data, and reading and writing files to access and store data.\n",
        "\n",
        "You may find it helpful to refer to this GitHub repository of Jupyter notebooks for sample code.\n",
        "\n",
        "* https://github.com/bu-cds-omds/dx602-examples\n",
        "\n",
        "Any calculations demonstrated in code examples or videos may be found in these notebooks, and you are allowed to copy this example code in your homework answers."
      ]
    },
    {
      "cell_type": "markdown",
      "metadata": {
        "id": "dJAalY6t1Y-5"
      },
      "source": [
        "## Instructions\n",
        "\n",
        "You should replace every instance of \"...\" below.\n",
        "These are where you are expected to write code to answer each problem.\n",
        "\n",
        "After some of the problems, there are extra code cells that will test functions that you wrote so you can quickly see how they run on an example.\n",
        "If your code works on these examples, it is more likely to be correct.\n",
        "However, the autograder will test different examples, so working correctly on these examples does not guarantee full credit for the problem.\n",
        "You may change the example inputs to further test your functions on your own.\n",
        "You may also add your own example inputs for problems where we did not provide any.\n",
        "\n",
        "Be sure to run each code block after you edit it to make sure it runs as expected.\n",
        "When you are done, we strongly recommend you run all the code from scratch (Runtime menu -> Restart and Run all) to make sure your current code works for all problems.\n",
        "\n",
        "If your code raises an exception when run from scratch, it will  interfere with the auto-grader process causing you to lose some or all points for this homework.\n",
        "Please ask for help in YellowDig or schedule an appointment with a learning facilitator if you get stuck.\n"
      ]
    },
    {
      "cell_type": "markdown",
      "metadata": {},
      "source": [
        "#### Shared Imports\n",
        "\n",
        "These common imports will be useful for some problems.\n",
        "You may add other imports, but you should not try to install new modules not available in our Codespaces environment."
      ]
    },
    {
      "cell_type": "code",
      "execution_count": 74,
      "metadata": {},
      "outputs": [],
      "source": [
        "import csv\n",
        "import json\n",
        "import re"
      ]
    },
    {
      "cell_type": "markdown",
      "metadata": {
        "id": "blKiYYVsw6QW"
      },
      "source": [
        "### Problem 1\n",
        "\n",
        "Set the variable `p1` to the length of the string `q1`."
      ]
    },
    {
      "cell_type": "code",
      "execution_count": 75,
      "metadata": {
        "id": "cP4rScqMGuze"
      },
      "outputs": [],
      "source": [
        "# DO NOT CHANGE\n",
        "\n",
        "q1 = \"Hello, I am a robot living in this notebook.\""
      ]
    },
    {
      "cell_type": "code",
      "execution_count": 76,
      "metadata": {
        "id": "S73zAB2vxDZs"
      },
      "outputs": [],
      "source": [
        "# YOUR CHANGES HERE\n",
        "\n",
        "p1 = len(q1)"
      ]
    },
    {
      "cell_type": "markdown",
      "metadata": {
        "id": "k5t19CKuWgAy"
      },
      "source": [
        "### Problem 2\n",
        "\n",
        "The variable `q2` below contains a line of text from a comma-separated value file.\n",
        "Set `p2` to the number of fields in `q2`."
      ]
    },
    {
      "cell_type": "markdown",
      "metadata": {
        "id": "040QkC0fW3Ao"
      },
      "source": [
        "Hint: Is there a string method that can separate the fields in `q2` into a list?"
      ]
    },
    {
      "cell_type": "code",
      "execution_count": 138,
      "metadata": {
        "id": "KQiLAQuKW9Ce"
      },
      "outputs": [],
      "source": [
        "# DO NOT CHANGE\n",
        "\n",
        "q2 = \"35,Hello,red,153.2,n/a,true,true,true,false,154,92,2024-09-01,2020-03-06,confirmed,n/a,F,100,100\\n\""
      ]
    },
    {
      "cell_type": "code",
      "execution_count": 139,
      "metadata": {
        "id": "2tXbdHcbXS_7"
      },
      "outputs": [],
      "source": [
        "# YOUR CHANGES HERE\n",
        "\n",
        "# 1. Use the .split(',') method to break the string into a list of fields based on the comma delimiter.\n",
        "# 2. Use the len() function to count the number of elements in the resulting list.\n",
        "# 3. Assign the count back to the variable q2.\n",
        "p2 = len(q2.split(','))"
      ]
    },
    {
      "cell_type": "code",
      "execution_count": 140,
      "metadata": {},
      "outputs": [
        {
          "data": {
            "text/plain": [
              "18"
            ]
          },
          "execution_count": 140,
          "metadata": {},
          "output_type": "execute_result"
        }
      ],
      "source": [
        "p2"
      ]
    },
    {
      "cell_type": "markdown",
      "metadata": {
        "id": "QlLPGYyAC_YI"
      },
      "source": [
        "### Problem 3\n",
        "\n",
        "Write a function `p3` that takes in a string as input, and returns `True` if the string contains \"silly\" and the length of the string is at most 50 characters and `False` otherwise."
      ]
    },
    {
      "cell_type": "code",
      "execution_count": 80,
      "metadata": {
        "id": "1CUU_Td7DdnH"
      },
      "outputs": [],
      "source": [
        "# YOUR CHANGES HERE\n",
        "\n",
        "def p3(joke):\n",
        "    # Check if the string \"silly\" is in the input string 'joke'\n",
        "    # AND if the length of 'joke' is less than or equal to 50\n",
        "    if \"silly\" in joke and len(joke) <= 50:\n",
        "        return True\n",
        "    else:\n",
        "        return False\n",
        "\n",
        "# A more concise way to write the function:\n",
        "# def p3(joke):\n",
        "#     return \"silly\" in joke and len(joke) <= 50\n",
        "\n",
        "# Example usage:\n",
        "# print(p3(\"This is a silly joke.\"))  # True\n",
        "# print(p3(\"This is a serious joke.\")) # False\n",
        "# print(p3(\"silly\" + \"a\"*50))        # False (length is 55)\n",
        "# print(p3(\"silly\" + \"a\"*40))        # True (length is 45)"
      ]
    },
    {
      "cell_type": "code",
      "execution_count": 81,
      "metadata": {},
      "outputs": [
        {
          "data": {
            "text/plain": [
              "True"
            ]
          },
          "execution_count": 81,
          "metadata": {},
          "output_type": "execute_result"
        }
      ],
      "source": [
        "p3(\"this is a silly joke\")"
      ]
    },
    {
      "cell_type": "code",
      "execution_count": 82,
      "metadata": {},
      "outputs": [
        {
          "data": {
            "text/plain": [
              "False"
            ]
          },
          "execution_count": 82,
          "metadata": {},
          "output_type": "execute_result"
        }
      ],
      "source": [
        "p3(\"this joke is so boring because it drones on and on and on and on forever as if noone is really reading this amirite?\")"
      ]
    },
    {
      "cell_type": "markdown",
      "metadata": {
        "id": "voCorEFqDgHa"
      },
      "source": [
        "### Problem 4\n",
        "\n",
        "In the video \"Parsing Numbers from Strings\", you saw the `ord` function used to map individual characters to their character codes.\n",
        "You can reverse this operation with the `chr` function."
      ]
    },
    {
      "cell_type": "code",
      "execution_count": 83,
      "metadata": {
        "colab": {
          "base_uri": "https://localhost:8080/"
        },
        "id": "9Ay491sCFoWE",
        "outputId": "1f74d923-1d52-4730-ad15-4f9fd213ab39"
      },
      "outputs": [
        {
          "data": {
            "text/plain": [
              "129412"
            ]
          },
          "execution_count": 83,
          "metadata": {},
          "output_type": "execute_result"
        }
      ],
      "source": [
        "ord('🦄')"
      ]
    },
    {
      "cell_type": "code",
      "execution_count": 84,
      "metadata": {
        "colab": {
          "base_uri": "https://localhost:8080/",
          "height": 35
        },
        "id": "zBFgiVa7FqVL",
        "outputId": "7dea34e9-7897-4d8e-c945-44a982e3677c"
      },
      "outputs": [
        {
          "data": {
            "text/plain": [
              "'🦄'"
            ]
          },
          "execution_count": 84,
          "metadata": {},
          "output_type": "execute_result"
        }
      ],
      "source": [
        "chr(129412)"
      ]
    },
    {
      "cell_type": "markdown",
      "metadata": {
        "id": "XFwcUtVnFtb-"
      },
      "source": [
        "The Unicode characters with codes 128200, 128201, and 128202 are all emoji related to data science.\n",
        "Set `p4` to the concatenation of these three emoji characters together.\n",
        "That is, make `p4` with those three characters in that order and just those three characters."
      ]
    },
    {
      "cell_type": "code",
      "execution_count": 85,
      "metadata": {
        "id": "8onkYe3bEFmd"
      },
      "outputs": [],
      "source": [
        "# YOUR CHANGES HERE\n",
        "\n",
        "# Use chr() to convert each integer code point to a character, \n",
        "# and then use the '+' operator to concatenate them.\n",
        "p4 = chr(128200) + chr(128201) + chr(128202)"
      ]
    },
    {
      "cell_type": "code",
      "execution_count": 86,
      "metadata": {},
      "outputs": [
        {
          "data": {
            "text/plain": [
              "'📈📉📊'"
            ]
          },
          "execution_count": 86,
          "metadata": {},
          "output_type": "execute_result"
        }
      ],
      "source": [
        "p4"
      ]
    },
    {
      "cell_type": "markdown",
      "metadata": {
        "id": "6nhuM87ZGIXm"
      },
      "source": [
        "### Problem 5\n",
        "\n",
        "Set `p5` to be a copy of the variable `q5` after replacing \"jumped over\" with \"greeted\" and \"lazy\" with \"friendly\"."
      ]
    },
    {
      "cell_type": "code",
      "execution_count": 87,
      "metadata": {
        "id": "iezT1WYDGclf"
      },
      "outputs": [],
      "source": [
        "# DO NOT CHANGE\n",
        "\n",
        "q5 = \"The quick brown fox jumped over the lazy brown dog.\""
      ]
    },
    {
      "cell_type": "code",
      "execution_count": 88,
      "metadata": {
        "id": "K0KoZch7Gp1w"
      },
      "outputs": [],
      "source": [
        "# YOUR CHANGES HERE\n",
        "\n",
        "# First, replace \"jumped over\" with \"greeted\".\n",
        "# Second, replace \"lazy\" with \"friendly\" on the result of the first replacement.\n",
        "p5 = q5.replace(\"jumped over\", \"greeted\").replace(\"lazy\", \"friendly\")"
      ]
    },
    {
      "cell_type": "code",
      "execution_count": 89,
      "metadata": {},
      "outputs": [
        {
          "data": {
            "text/plain": [
              "'The quick brown fox greeted the friendly brown dog.'"
            ]
          },
          "execution_count": 89,
          "metadata": {},
          "output_type": "execute_result"
        }
      ],
      "source": [
        "p5"
      ]
    },
    {
      "cell_type": "markdown",
      "metadata": {
        "id": "pqPETeBNMi81"
      },
      "source": [
        "### Problem 6\n",
        "\n",
        "Write a function `p6` that takes in a filename as an argument, reads it as a TSV with a header row, and returns an iterator of dictionaries like in the example code.\n",
        "Each value should be parsed as an integer.\n",
        "If a value does not parse successfully, set the value to None."
      ]
    },
    {
      "cell_type": "code",
      "execution_count": 90,
      "metadata": {
        "id": "PhrfDMbyMnc1"
      },
      "outputs": [],
      "source": [
        "# YOUR CHANGES HERE\n",
        "\n",
        "def p6(filename):\n",
        "    \"\"\"\n",
        "    Reads a TSV file with a header row and returns an iterator of dictionaries.\n",
        "    Each dictionary's value is parsed as an integer; if parsing fails, it is set to None.\n",
        "    \"\"\"\n",
        "    # Open the file for reading. The 'with' statement ensures the file is closed automatically.\n",
        "    with open(filename, 'r', newline='') as f:\n",
        "        # Use csv.DictReader, specifying the delimiter as a tab ('\\t') for TSV format.\n",
        "        reader = csv.DictReader(f, delimiter='\\t')\n",
        "        \n",
        "        # Iterate over each row (which is a dictionary) yielded by DictReader\n",
        "        for row in reader:\n",
        "            new_row = {}\n",
        "            # Iterate over the key-value pairs of the current row (dictionary)\n",
        "            for key, value in row.items():\n",
        "                try:\n",
        "                    # Attempt to convert the value to an integer\n",
        "                    parsed_value = int(value)\n",
        "                except ValueError:\n",
        "                    # If conversion fails (e.g., for 'n/a' or non-numeric strings), set to None\n",
        "                    parsed_value = None\n",
        "                \n",
        "                # Update the new dictionary with the key and the parsed value\n",
        "                new_row[key] = parsed_value\n",
        "            \n",
        "            # Use 'yield' to return the new dictionary and make the function an iterator (generator)\n",
        "            yield new_row"
      ]
    },
    {
      "cell_type": "code",
      "execution_count": 91,
      "metadata": {},
      "outputs": [
        {
          "data": {
            "text/plain": [
              "[{'a': 3, 'b': 4}]"
            ]
          },
          "execution_count": 91,
          "metadata": {},
          "output_type": "execute_result"
        }
      ],
      "source": [
        "list(p6(\"data6_a.tsv\"))"
      ]
    },
    {
      "cell_type": "code",
      "execution_count": 92,
      "metadata": {},
      "outputs": [
        {
          "data": {
            "text/plain": [
              "[{'a': None, 'b': None, 'c': None}]"
            ]
          },
          "execution_count": 92,
          "metadata": {},
          "output_type": "execute_result"
        }
      ],
      "source": [
        "list(p6(\"data6_b.tsv\"))"
      ]
    },
    {
      "cell_type": "markdown",
      "metadata": {
        "id": "gE7eblr4MvR_"
      },
      "source": [
        "### Problem 7\n",
        "\n",
        "Write a function `p7` that takes in a filename as an argument, reads it as a TSV with a header row, and returns an iterator of dictionaries like in the example code.\n",
        "Each value should be parsed as an integer, and if the value does not parse successfully, set the value to 3.\n",
        "In addition, add a new key “finagled” to each dictionary with value True if any value did not parse successfully and False otherwise."
      ]
    },
    {
      "cell_type": "markdown",
      "metadata": {
        "id": "q9vroUV6M-C2"
      },
      "source": [
        "Hints:\n",
        "1. Use the function `p6` that you previously wrote for the shared work.\n",
        "2. Use `is None` to check for parsing failures.\n",
        "3. For the new finagled flag, set it to False initially, and change the value to True if you find a parsing failure.\n"
      ]
    },
    {
      "cell_type": "code",
      "execution_count": 93,
      "metadata": {
        "id": "5-wvb6MGMuUT"
      },
      "outputs": [],
      "source": [
        "# YOUR CHANGES HERE\n",
        "\n",
        "def p7(filename):\n",
        "    \"\"\"\n",
        "    Reads a TSV file with a header row, parses values as integers (setting failure to 3), \n",
        "    and adds a 'finagled' key to indicate if any parsing failure occurred in the row.\n",
        "    Returns an iterator of dictionaries.\n",
        "    \"\"\"\n",
        "    # Open the file for reading.\n",
        "    with open(filename, 'r', newline='') as f:\n",
        "        # Use csv.DictReader for TSV format.\n",
        "        reader = csv.DictReader(f, delimiter='\\t')\n",
        "        \n",
        "        # Iterate over each row (dictionary) from the file\n",
        "        for row in reader:\n",
        "            new_row = {}\n",
        "            finagled_flag = False  # Hint 3: Set 'finagled' to False initially for this row\n",
        "            \n",
        "            # Iterate over the key-value pairs of the current row\n",
        "            for key, value in row.items():\n",
        "                parsed_value = None\n",
        "                \n",
        "                try:\n",
        "                    # Attempt to convert the value to an integer\n",
        "                    parsed_value = int(value)\n",
        "                except ValueError:\n",
        "                    # If conversion fails:\n",
        "                    # 1. Set the parsed value to 3 (new requirement)\n",
        "                    parsed_value = 3\n",
        "                    # 2. Set the finagled flag to True (new requirement)\n",
        "                    finagled_flag = True\n",
        "                \n",
        "                # Add the key and its parsed/defaulted value to the new dictionary\n",
        "                new_row[key] = parsed_value\n",
        "            \n",
        "            # Add the required 'finagled' key to the dictionary\n",
        "            new_row['finagled'] = finagled_flag\n",
        "            \n",
        "            # Use 'yield' to return the new dictionary and make the function an iterator (generator)\n",
        "            yield new_row"
      ]
    },
    {
      "cell_type": "code",
      "execution_count": 94,
      "metadata": {},
      "outputs": [
        {
          "data": {
            "text/plain": [
              "[{'a': 3, 'b': 4, 'finagled': False}]"
            ]
          },
          "execution_count": 94,
          "metadata": {},
          "output_type": "execute_result"
        }
      ],
      "source": [
        "list(p7(\"data7_a.tsv\"))"
      ]
    },
    {
      "cell_type": "code",
      "execution_count": 95,
      "metadata": {},
      "outputs": [
        {
          "data": {
            "text/plain": [
              "[{'a': 3, 'b': 3, 'c': 3, 'finagled': True}]"
            ]
          },
          "execution_count": 95,
          "metadata": {},
          "output_type": "execute_result"
        }
      ],
      "source": [
        "list(p7(\"data7_b.tsv\"))"
      ]
    },
    {
      "cell_type": "markdown",
      "metadata": {
        "id": "JKXpd68DNMj4"
      },
      "source": [
        "### Problem 8\n",
        "\n",
        "Write a function `p8` that takes in three inputs - an input file name, an output filename, and a list of column names.\n",
        "The function should read the input file using the TSV format and write the output file using the TSV format with just the specified input column names.\n",
        "The output file should have the columns in the same order as the input column name list.\n"
      ]
    },
    {
      "cell_type": "code",
      "execution_count": 96,
      "metadata": {
        "id": "YIN0GfynNVS9"
      },
      "outputs": [],
      "source": [
        "# YOUR CHANGES HERE\n",
        "\n",
        "def p8(input_filename, output_filename, column_names):\n",
        "    \"\"\"\n",
        "    Reads a TSV file, selects only the specified columns, and writes them \n",
        "    to a new TSV file in the order of the 'column_names' list.\n",
        "    \"\"\"\n",
        "    # 1. Read the input TSV file\n",
        "    with open(input_filename, 'r', newline='', encoding='utf-8') as infile:\n",
        "        # Use DictReader for the input. It treats the first row as headers \n",
        "        # and reads each row as a dictionary. Delimiter is '\\t' for TSV.\n",
        "        reader = csv.DictReader(infile, delimiter='\\t')\n",
        "        \n",
        "        # 2. Write to the output TSV file\n",
        "        with open(output_filename, 'w', newline='', encoding='utf-8') as outfile:\n",
        "            # Use DictWriter for the output. We must specify the fieldnames \n",
        "            # (which dictates the header row and column order) and the delimiter.\n",
        "            writer = csv.DictWriter(\n",
        "                outfile, \n",
        "                fieldnames=column_names, \n",
        "                delimiter='\\t',\n",
        "                extrasaction='ignore'  # Ignore keys in the input dicts that aren't in column_names\n",
        "            )\n",
        "            \n",
        "            # Write the header row using the specified column names\n",
        "            writer.writeheader()\n",
        "            \n",
        "            # 3. Iterate through input rows and write them to the output\n",
        "            # DictWriter automatically handles selecting only the keys that \n",
        "            # match the specified 'fieldnames' and puts them in the right order.\n",
        "            for row in reader:\n",
        "                writer.writerow(row)\n",
        "\n",
        "# The 'extrasaction='ignore'' parameter is crucial as it tells DictWriter to \n",
        "# discard columns from the input that are NOT in the 'column_names' list, \n",
        "# ensuring only the specified columns are written."
      ]
    },
    {
      "cell_type": "markdown",
      "metadata": {
        "id": "JrSMytwHNsIJ"
      },
      "source": [
        "You can use the next two cells to test your function."
      ]
    },
    {
      "cell_type": "code",
      "execution_count": 97,
      "metadata": {
        "id": "Tr1U2MgwNaqN"
      },
      "outputs": [],
      "source": [
        "# test p8\n",
        "p8(\"input-8.tsv\", \"output-8.tsv\", [\"height\", \"width\", \"color\"])"
      ]
    },
    {
      "cell_type": "code",
      "execution_count": 98,
      "metadata": {
        "id": "KIn9DFPaNoZl"
      },
      "outputs": [
        {
          "name": "stdout",
          "output_type": "stream",
          "text": [
            "height\twidth\tcolor\n",
            "45\t23\tred\n",
            "62\t15\tblue\n",
            "23\t123\tgreen\n"
          ]
        }
      ],
      "source": [
        "try:\n",
        "    with open(\"output-8.tsv\") as check_fp:\n",
        "        for line in check_fp:\n",
        "            print(line.rstrip(\"\\n\"))\n",
        "except FileNotFoundError:\n",
        "    print(\"file not found\")"
      ]
    },
    {
      "cell_type": "markdown",
      "metadata": {
        "id": "G_7f6OuiQF-C"
      },
      "source": [
        "### Problem 9\n",
        "\n",
        "Write a function `p9` that takes in a filename as an argument, reads it as a TSV with a header row, and returns the number of rows with data."
      ]
    },
    {
      "cell_type": "markdown",
      "metadata": {
        "id": "VmAOs1fOQKB6"
      },
      "source": [
        "Hint:\n",
        "*  This should be simple, but make sure not to count blank lines."
      ]
    },
    {
      "cell_type": "code",
      "execution_count": 99,
      "metadata": {
        "id": "bm-zS-HLQQgh"
      },
      "outputs": [],
      "source": [
        "# YOUR CHANGES HERE\n",
        "\n",
        "def p9(filename):\n",
        "    \"\"\"\n",
        "    Reads a TSV file with a header row and returns the number of rows with data.\n",
        "    \"\"\"\n",
        "    # Initialize a counter for the data rows\n",
        "    row_count = 0\n",
        "    \n",
        "    # Open the file for reading. 'newline=' is crucial for csv module compatibility.\n",
        "    with open(filename, 'r', newline='') as f:\n",
        "        # Use DictReader for the TSV format (delimiter='\\t').\n",
        "        # DictReader automatically treats the first line as the header and \n",
        "        # only yields rows that can be successfully parsed as dictionaries \n",
        "        # (i.e., non-blank rows with the correct number of fields).\n",
        "        reader = csv.DictReader(f, delimiter='\\t')\n",
        "        \n",
        "        # Iterate over the reader. Each iteration represents one data row.\n",
        "        for row in reader:\n",
        "            row_count += 1\n",
        "            \n",
        "    return row_count\n",
        "\n",
        "# The DictReader handles the complexity:\n",
        "# 1. It skips the header row.\n",
        "# 2. It reads only the data rows.\n",
        "# 3. It automatically handles blank *lines* between data rows or at the end \n",
        "#    of the file, as they won't form valid dictionaries and won't be yielded."
      ]
    },
    {
      "cell_type": "code",
      "execution_count": 100,
      "metadata": {},
      "outputs": [
        {
          "data": {
            "text/plain": [
              "1"
            ]
          },
          "execution_count": 100,
          "metadata": {},
          "output_type": "execute_result"
        }
      ],
      "source": [
        "p9(\"data9_a.tsv\")"
      ]
    },
    {
      "cell_type": "code",
      "execution_count": 101,
      "metadata": {},
      "outputs": [
        {
          "data": {
            "text/plain": [
              "0"
            ]
          },
          "execution_count": 101,
          "metadata": {},
          "output_type": "execute_result"
        }
      ],
      "source": [
        "p9(\"data9_b.tsv\")"
      ]
    },
    {
      "cell_type": "markdown",
      "metadata": {
        "id": "iCFdEYGwG82t"
      },
      "source": [
        "### Problem 10\n",
        "\n",
        "Write a function `p10` that takes in a filename as an argument, and returns `True` if the file is formatted as a TSV file and `False` otherwise.\n"
      ]
    },
    {
      "cell_type": "markdown",
      "metadata": {
        "id": "gW_pQZK7H2_-"
      },
      "source": [
        "Hint: You can do this just looking at the first line of the file."
      ]
    },
    {
      "cell_type": "code",
      "execution_count": 102,
      "metadata": {
        "id": "sGqg9EJ5H-8V"
      },
      "outputs": [],
      "source": [
        "# YOUR CHANGES HERE\n",
        "\n",
        "def p10(filename):\n",
        "    \"\"\"\n",
        "    Reads the first line of a file and returns True if it appears to be \n",
        "    TSV (contains a tab but no comma), and False otherwise.\n",
        "    \"\"\"\n",
        "    try:\n",
        "        with open(filename, 'r', encoding='utf-8') as f:\n",
        "            # Read only the first line of the file\n",
        "            first_line = f.readline().strip()\n",
        "\n",
        "            # A file is considered a TSV if:\n",
        "            # 1. It contains at least one tab character ('\\t').\n",
        "            # 2. It does NOT contain a comma (',').\n",
        "            # This distinguishes it from a common CSV file.\n",
        "            if '\\t' in first_line and ',' not in first_line:\n",
        "                return True\n",
        "            else:\n",
        "                return False\n",
        "                \n",
        "    except FileNotFoundError:\n",
        "        # Handle the case where the file doesn't exist\n",
        "        return False\n",
        "    except Exception:\n",
        "        # Handle other potential file reading errors\n",
        "        return False"
      ]
    },
    {
      "cell_type": "code",
      "execution_count": 103,
      "metadata": {},
      "outputs": [
        {
          "data": {
            "text/plain": [
              "True"
            ]
          },
          "execution_count": 103,
          "metadata": {},
          "output_type": "execute_result"
        }
      ],
      "source": [
        "p10(\"data10_a.tsv\")"
      ]
    },
    {
      "cell_type": "code",
      "execution_count": 104,
      "metadata": {},
      "outputs": [
        {
          "data": {
            "text/plain": [
              "False"
            ]
          },
          "execution_count": 104,
          "metadata": {},
          "output_type": "execute_result"
        }
      ],
      "source": [
        "p10(\"data10_b.tsv\")"
      ]
    },
    {
      "cell_type": "markdown",
      "metadata": {
        "id": "YluyxFIBYn9i"
      },
      "source": [
        "### Problem 11\n",
        "\n",
        "The variable `p11` below is assigned using an f-string without formatting options.\n",
        "Modify the f-string to display the number of visits with commas, and the average visit revenue with two digits after the decimal point.\n",
        "You should only modify the f-string for this problem.\n",
        "\n",
        "Feel free to search for the formatting options to guide you modifying the f-string.\n",
        "You will learn the more commonly used options with practice."
      ]
    },
    {
      "cell_type": "code",
      "execution_count": 105,
      "metadata": {
        "id": "5ymdKizuY1Jd"
      },
      "outputs": [],
      "source": [
        "# DO NOT CHANGE\n",
        "\n",
        "q11a = 5125\n",
        "q11b = 3.5123565123"
      ]
    },
    {
      "cell_type": "code",
      "execution_count": 106,
      "metadata": {
        "id": "8bibT3VpZEKq"
      },
      "outputs": [],
      "source": [
        "# YOUR CHANGES HERE\n",
        "\n",
        "p11 = f\"Number of visits = {q11a:,}, average visit revenue = {q11b:.2f}\""
      ]
    },
    {
      "cell_type": "code",
      "execution_count": 107,
      "metadata": {
        "id": "QENJ6s5lZMpg"
      },
      "outputs": [
        {
          "data": {
            "text/plain": [
              "'Number of visits = 5,125, average visit revenue = 3.51'"
            ]
          },
          "execution_count": 107,
          "metadata": {},
          "output_type": "execute_result"
        }
      ],
      "source": [
        "p11"
      ]
    },
    {
      "cell_type": "markdown",
      "metadata": {
        "id": "v5ye5MghZ-FA"
      },
      "source": [
        "### Problem 12\n",
        "\n",
        "The variable `q12` below contains a line of text read from a CSV file.\n",
        "Set `p12` to the floating point number in the first column of `q12`."
      ]
    },
    {
      "cell_type": "code",
      "execution_count": 108,
      "metadata": {
        "id": "0p6cgsMkZ9J3"
      },
      "outputs": [],
      "source": [
        "# DO NOT CHANGE\n",
        "\n",
        "q12 = \"6.4,dog,red,0.9\\n\""
      ]
    },
    {
      "cell_type": "code",
      "execution_count": 109,
      "metadata": {
        "id": "drPdwLZ8aZdo"
      },
      "outputs": [],
      "source": [
        "# YOUR CHANGES HERE\n",
        "\n",
        "# 1. Use .split(',') to break the CSV string into a list of columns.\n",
        "# 2. Access the element at index 0 (the first column), which is the string \"6.4\".\n",
        "# 3. Use the float() function to convert the string \"6.4\" into the floating-point number 6.4.\n",
        "p12 = float(q12.split(',')[0])"
      ]
    },
    {
      "cell_type": "code",
      "execution_count": 110,
      "metadata": {},
      "outputs": [
        {
          "data": {
            "text/plain": [
              "6.4"
            ]
          },
          "execution_count": 110,
          "metadata": {},
          "output_type": "execute_result"
        }
      ],
      "source": [
        "p12"
      ]
    },
    {
      "cell_type": "markdown",
      "metadata": {
        "id": "DzUKbAYhQXbG"
      },
      "source": [
        "### Problem 13\n",
        "\n",
        "Write a function `p13` that takes in a filename as an argument, reads it as a CSV with a header row, and returns a list of the column names.\n",
        "The list of column names should be in the same order as in the file's header."
      ]
    },
    {
      "cell_type": "code",
      "execution_count": 111,
      "metadata": {
        "id": "fMqaF4brQhrq"
      },
      "outputs": [],
      "source": [
        "# YOUR CHANGES HERE\n",
        "\n",
        "def p13(filename):\n",
        "    \"\"\"\n",
        "    Reads a CSV file with a header row and returns a list of column names \n",
        "    in the order they appear in the file.\n",
        "    \"\"\"\n",
        "    try:\n",
        "        # Open the file for reading. 'newline=' is crucial for the csv module.\n",
        "        with open(filename, 'r', newline='', encoding='utf-8') as f:\n",
        "            # Use csv.DictReader. It automatically parses the first row as the header.\n",
        "            reader = csv.DictReader(f)\n",
        "            \n",
        "            # The DictReader's 'fieldnames' attribute contains the column names \n",
        "            # as a list in the correct order.\n",
        "            return reader.fieldnames\n",
        "            \n",
        "    except FileNotFoundError:\n",
        "        # Handle the case where the file doesn't exist\n",
        "        return []\n",
        "    except Exception:\n",
        "        # Handle cases where the file might be empty or improperly formatted\n",
        "        return []"
      ]
    },
    {
      "cell_type": "code",
      "execution_count": 112,
      "metadata": {},
      "outputs": [
        {
          "data": {
            "text/plain": [
              "['foo', 'bar']"
            ]
          },
          "execution_count": 112,
          "metadata": {},
          "output_type": "execute_result"
        }
      ],
      "source": [
        "p13(\"data13_a.csv\")"
      ]
    },
    {
      "cell_type": "code",
      "execution_count": 113,
      "metadata": {},
      "outputs": [
        {
          "data": {
            "text/plain": [
              "['foo', 'bar']"
            ]
          },
          "execution_count": 113,
          "metadata": {},
          "output_type": "execute_result"
        }
      ],
      "source": [
        "p13(\"data13_b.csv\")"
      ]
    },
    {
      "cell_type": "markdown",
      "metadata": {
        "id": "-WW_1NgRN3J6"
      },
      "source": [
        "### Problem 14\n",
        "\n",
        "Write a function `p14` that takes in an input filename and column name, parses the file as a CSV with a header row, and returns a list of the values in the given column.\n",
        "If the column is missing, your function should return a KeyError."
      ]
    },
    {
      "cell_type": "code",
      "execution_count": 114,
      "metadata": {
        "id": "1vo-ODsBPSW1"
      },
      "outputs": [],
      "source": [
        "# YOUR CHANGES HERE\n",
        "\n",
        "def p14(filename, column_name):\n",
        "    \"\"\"\n",
        "    Reads a CSV file, extracts and returns a list of all values \n",
        "    from the given column_name. Raises KeyError if the column is missing.\n",
        "    \"\"\"\n",
        "    column_values = []\n",
        "    \n",
        "    # Open the file for reading.\n",
        "    with open(filename, 'r', newline='', encoding='utf-8') as f:\n",
        "        # Use DictReader for CSV. It reads the first row as headers \n",
        "        # and returns each data row as a dictionary.\n",
        "        reader = csv.DictReader(f)\n",
        "        \n",
        "        # Iterate over each row dictionary\n",
        "        for row in reader:\n",
        "            # Access the value using the column_name as the dictionary key.\n",
        "            # If 'column_name' is not a header, Python will raise a KeyError \n",
        "            # when accessing row[column_name], as required by the prompt.\n",
        "            value = row[column_name]\n",
        "            \n",
        "            # Add the extracted value to the list\n",
        "            column_values.append(value)\n",
        "            \n",
        "    return column_values"
      ]
    },
    {
      "cell_type": "code",
      "execution_count": 115,
      "metadata": {},
      "outputs": [
        {
          "data": {
            "text/plain": [
              "['1', '3']"
            ]
          },
          "execution_count": 115,
          "metadata": {},
          "output_type": "execute_result"
        }
      ],
      "source": [
        "p14(\"data14_a.csv\", \"foo\")"
      ]
    },
    {
      "cell_type": "code",
      "execution_count": 116,
      "metadata": {},
      "outputs": [
        {
          "data": {
            "text/plain": [
              "['2', '4']"
            ]
          },
          "execution_count": 116,
          "metadata": {},
          "output_type": "execute_result"
        }
      ],
      "source": [
        "p14(\"data14_a.csv\", \"bar\")"
      ]
    },
    {
      "cell_type": "code",
      "execution_count": 117,
      "metadata": {},
      "outputs": [
        {
          "data": {
            "text/plain": [
              "['1']"
            ]
          },
          "execution_count": 117,
          "metadata": {},
          "output_type": "execute_result"
        }
      ],
      "source": [
        "p14(\"data14_b.csv\", \"foo\")"
      ]
    },
    {
      "cell_type": "code",
      "execution_count": 118,
      "metadata": {},
      "outputs": [
        {
          "data": {
            "text/plain": [
              "['2']"
            ]
          },
          "execution_count": 118,
          "metadata": {},
          "output_type": "execute_result"
        }
      ],
      "source": [
        "p14(\"data14_b.csv\", \"bar\")"
      ]
    },
    {
      "cell_type": "markdown",
      "metadata": {
        "id": "o65vc-i9Q8mu"
      },
      "source": [
        "### Problem 15\n",
        "\n",
        "Write a function `p15` that takes in a filename and string key, parses the file as JSON, and returns the value for that key. If the object in the JSON file is not a dictionary or the given key does not exist, then the function should return None."
      ]
    },
    {
      "cell_type": "code",
      "execution_count": 119,
      "metadata": {
        "id": "hwZliDa0RIDJ"
      },
      "outputs": [],
      "source": [
        "# YOUR CHANGES HERE\n",
        "\n",
        "def p15(filename, key):\n",
        "    \"\"\"\n",
        "    Reads a file, parses it as JSON, and returns the value for the given key.\n",
        "    Returns None if the JSON object isn't a dictionary or if the key is missing.\n",
        "    \"\"\"\n",
        "    try:\n",
        "        # 1. Open and read the JSON file\n",
        "        with open(filename, 'r', encoding='utf-8') as f:\n",
        "            data = json.load(f)\n",
        "            \n",
        "    except FileNotFoundError:\n",
        "        # Handle non-existent files\n",
        "        return None\n",
        "    except json.JSONDecodeError:\n",
        "        # Handle cases where the file content is not valid JSON\n",
        "        return None\n",
        "    except Exception:\n",
        "        # Handle other potential file reading errors\n",
        "        return None\n",
        "\n",
        "    # 2. Check if the parsed object is a dictionary\n",
        "    if not isinstance(data, dict):\n",
        "        return None\n",
        "\n",
        "    # 3. Safely retrieve the value for the key\n",
        "    # Using .get() is the safest way to check for a key and return None if it's missing.\n",
        "    # The default return value of .get() is None if the key is not found.\n",
        "    return data.get(key)"
      ]
    },
    {
      "cell_type": "code",
      "execution_count": 120,
      "metadata": {},
      "outputs": [
        {
          "data": {
            "text/plain": [
              "3"
            ]
          },
          "execution_count": 120,
          "metadata": {},
          "output_type": "execute_result"
        }
      ],
      "source": [
        "p15(\"data15_a.json\", \"x\")"
      ]
    },
    {
      "cell_type": "code",
      "execution_count": 121,
      "metadata": {},
      "outputs": [],
      "source": [
        "p15(\"data15_a.json\", \"y\")"
      ]
    },
    {
      "cell_type": "markdown",
      "metadata": {
        "id": "-r_LEYgDPWip"
      },
      "source": [
        "### Problem 16\n",
        "\n",
        "Write a function that takes in an input filename, parses the file as a TSV with a header row, and returns a dictionary with the average value of each column."
      ]
    },
    {
      "cell_type": "markdown",
      "metadata": {
        "id": "twnfDlv2PjO3"
      },
      "source": [
        "Hint:\n",
        "* Write a helper function to compute the average of a list, and use list comprehensions to get all the values for each column.\n"
      ]
    },
    {
      "cell_type": "code",
      "execution_count": 122,
      "metadata": {
        "id": "GGmnvLxbPpLv"
      },
      "outputs": [],
      "source": [
        "# YOUR CHANGES HERE\n",
        "\n",
        "def _calculate_average(data_list):\n",
        "    \"\"\"Helper function to compute the average of a list of numbers.\"\"\"\n",
        "    if not data_list:\n",
        "        return 0.0  # Return 0.0 or handle as needed for an empty column\n",
        "    return sum(data_list) / len(data_list)\n",
        "\n",
        "def p16(filename):\n",
        "    \"\"\"\n",
        "    Reads a TSV file with a header, computes the average of each column,\n",
        "    and returns a dictionary of column averages. Non-numeric values are skipped.\n",
        "    \"\"\"\n",
        "    column_data = {}  # Dictionary to store a list of all numeric values per column\n",
        "    \n",
        "    try:\n",
        "        with open(filename, 'r', newline='', encoding='utf-8') as f:\n",
        "            # Use DictReader for TSV (Tab-Separated Values)\n",
        "            reader = csv.DictReader(f, delimiter='\\t')\n",
        "            \n",
        "            # Initialize column_data with empty lists using fieldnames from the header\n",
        "            if reader.fieldnames:\n",
        "                for header in reader.fieldnames:\n",
        "                    column_data[header] = []\n",
        "            \n",
        "            # 1. Iterate through rows and collect numeric data\n",
        "            for row in reader:\n",
        "                for column_name, value in row.items():\n",
        "                    try:\n",
        "                        # Attempt to convert the value to a float\n",
        "                        numeric_value = float(value)\n",
        "                        # Append only numeric values\n",
        "                        column_data[column_name].append(numeric_value)\n",
        "                    except ValueError:\n",
        "                        # Skip values that cannot be parsed as a float\n",
        "                        pass\n",
        "            \n",
        "    except FileNotFoundError:\n",
        "        # Return an empty dictionary if the file is not found\n",
        "        return {}\n",
        "    \n",
        "    # 2. Compute the average for each column using a dictionary comprehension\n",
        "    # The helper function is used here to compute the final average\n",
        "    average_by_column = {\n",
        "        column_name: _calculate_average(values_list)\n",
        "        for column_name, values_list in column_data.items()\n",
        "    }\n",
        "    \n",
        "    return average_by_column"
      ]
    },
    {
      "cell_type": "code",
      "execution_count": 123,
      "metadata": {},
      "outputs": [
        {
          "data": {
            "text/plain": [
              "{'foo': 1.0, 'bar': 2.0}"
            ]
          },
          "execution_count": 123,
          "metadata": {},
          "output_type": "execute_result"
        }
      ],
      "source": [
        "p16(\"data16_a.tsv\")"
      ]
    },
    {
      "cell_type": "markdown",
      "metadata": {
        "id": "tIwyDeWjQeQ4"
      },
      "source": [
        "### Problem 17\n",
        "\n",
        "Write a function `p17` that takes in a filename as an argument and a list of column names, parses the file as a CSV, and returns True if all the given columns are in the file and False otherwise."
      ]
    },
    {
      "cell_type": "code",
      "execution_count": 124,
      "metadata": {
        "id": "zXAXdv8sQrOm"
      },
      "outputs": [],
      "source": [
        "# YOUR CHANGES HERE\n",
        "\n",
        "def p17(filename, column_names):\n",
        "    \"\"\"\n",
        "    Checks if all given column_names exist in the header of the CSV file.\n",
        "    Returns True if all columns are present, False otherwise.\n",
        "    \"\"\"\n",
        "    try:\n",
        "        # 1. Read the file's header (fieldnames)\n",
        "        with open(filename, 'r', newline='', encoding='utf-8') as f:\n",
        "            reader = csv.DictReader(f)\n",
        "            file_headers = reader.fieldnames\n",
        "            \n",
        "            # If the file is empty or has no header, return False immediately\n",
        "            if not file_headers:\n",
        "                return False\n",
        "\n",
        "        # 2. Use set operations for efficient checking\n",
        "        \n",
        "        # Convert the file headers and the required column names to sets\n",
        "        required_set = set(column_names)\n",
        "        actual_set = set(file_headers)\n",
        "\n",
        "        # Check if the set of required columns is a subset of the actual headers.\n",
        "        # This is True only if ALL required columns are present in the file.\n",
        "        return required_set.issubset(actual_set)\n",
        "\n",
        "    except FileNotFoundError:\n",
        "        # If the file doesn't exist, the columns cannot be present\n",
        "        return False\n",
        "    except Exception:\n",
        "        # Handle other reading errors (e.g., file permissions, empty file contents)\n",
        "        return False"
      ]
    },
    {
      "cell_type": "code",
      "execution_count": 125,
      "metadata": {},
      "outputs": [
        {
          "data": {
            "text/plain": [
              "True"
            ]
          },
          "execution_count": 125,
          "metadata": {},
          "output_type": "execute_result"
        }
      ],
      "source": [
        "p17(\"data17_a.csv\", [\"foo\"])"
      ]
    },
    {
      "cell_type": "code",
      "execution_count": 126,
      "metadata": {},
      "outputs": [
        {
          "data": {
            "text/plain": [
              "True"
            ]
          },
          "execution_count": 126,
          "metadata": {},
          "output_type": "execute_result"
        }
      ],
      "source": [
        "p17(\"data17_a.csv\", [\"foo\", \"bar\"])"
      ]
    },
    {
      "cell_type": "code",
      "execution_count": 127,
      "metadata": {},
      "outputs": [
        {
          "data": {
            "text/plain": [
              "False"
            ]
          },
          "execution_count": 127,
          "metadata": {},
          "output_type": "execute_result"
        }
      ],
      "source": [
        "p17(\"data17_a.csv\", [\"baz\"])"
      ]
    },
    {
      "cell_type": "markdown",
      "metadata": {
        "id": "t5oXA2CUQ0hU"
      },
      "source": [
        "### Problem 18\n",
        "\n",
        "Write a function `p18` that takes in a filename, column name, and column value as arguments, parses the file as a TSV, and returns the first row where the given column has the given value. The row should be returned as a dictionary. If no such row exists, return None.\n"
      ]
    },
    {
      "cell_type": "code",
      "execution_count": 128,
      "metadata": {
        "id": "qAgVEX3eQ4Hm"
      },
      "outputs": [],
      "source": [
        "# YOUR CHANGES HERE\n",
        "\n",
        "def p18(filename, column_name, column_value):\n",
        "    \"\"\"\n",
        "    Reads a TSV file and returns the first row (as a dictionary) \n",
        "    where the specified column has the given value. Returns None if no row is found.\n",
        "    \"\"\"\n",
        "    try:\n",
        "        # Open the file for reading (TSV)\n",
        "        with open(filename, 'r', newline='', encoding='utf-8') as f:\n",
        "            # Use DictReader for TSV, which returns each row as a dictionary.\n",
        "            reader = csv.DictReader(f, delimiter='\\t')\n",
        "            \n",
        "            # Iterate through each row dictionary yielded by the reader\n",
        "            for row in reader:\n",
        "                # Check if the column exists in the row AND its value matches the target value\n",
        "                # We use .get() to safely check for the column_name, although \n",
        "                # DictReader should ensure all rows have keys from the header.\n",
        "                if row.get(column_name) == column_value:\n",
        "                    # Found the first match, return the entire row dictionary immediately\n",
        "                    return row\n",
        "                    \n",
        "        # If the loop finishes without finding a match, return None\n",
        "        return None\n",
        "        \n",
        "    except FileNotFoundError:\n",
        "        # Handle case where the input file doesn't exist\n",
        "        return None\n",
        "    except KeyError:\n",
        "        # Handle case where the column_name doesn't exist in the header\n",
        "        # In this scenario, DictReader rows won't have the key, leading to unexpected behavior \n",
        "        # or KeyError if not using .get(), but returning None is safe here.\n",
        "        return None\n",
        "    except Exception:\n",
        "        # Handle other general reading/parsing errors\n",
        "        return None"
      ]
    },
    {
      "cell_type": "code",
      "execution_count": 129,
      "metadata": {},
      "outputs": [],
      "source": [
        "p18(\"data18_a.tsv\", \"foo\", 3)"
      ]
    },
    {
      "cell_type": "code",
      "execution_count": 130,
      "metadata": {},
      "outputs": [],
      "source": [
        "p18(\"data18_a.tsv\", \"bar\", 4)"
      ]
    },
    {
      "cell_type": "markdown",
      "metadata": {
        "id": "9yDxpWGNIF_x"
      },
      "source": [
        "### Problem 19\n",
        "\n",
        "The following function `p19` is supposed to check if its input list has at least 10 entries, and return the 10th entry if it exists, and None if it has fewer than 10 entries.\n",
        "\n",
        "However, there is a bug in the code so it often returns wrong answers and sometimes crashes.\n",
        "Fix the bug in `p19`."
      ]
    },
    {
      "cell_type": "code",
      "execution_count": 131,
      "metadata": {
        "id": "pfYbydeAIN2V"
      },
      "outputs": [],
      "source": [
        "# YOUR CHANGES HERE\n",
        "\n",
        "def p19(input):\n",
        "    # The list must have a length of at least 10 to contain the 10th entry (index 9).\n",
        "    if len(input) >= 10:\n",
        "        # The 10th entry is at index 9, not 10.\n",
        "        return input[9]\n",
        "    return None"
      ]
    },
    {
      "cell_type": "code",
      "execution_count": 132,
      "metadata": {
        "id": "AwmdK79zJeYd"
      },
      "outputs": [
        {
          "data": {
            "text/plain": [
              "'a'"
            ]
          },
          "execution_count": 132,
          "metadata": {},
          "output_type": "execute_result"
        }
      ],
      "source": [
        "# this should return \"a\"\n",
        "\n",
        "p19(\"aaaaaaaaaaaaaa\")"
      ]
    },
    {
      "cell_type": "code",
      "execution_count": 133,
      "metadata": {
        "id": "YKgSkDoGJhvz"
      },
      "outputs": [],
      "source": [
        "# this should return None\n",
        "p19(\"bbbbbbb\")"
      ]
    },
    {
      "cell_type": "code",
      "execution_count": 134,
      "metadata": {
        "id": "eZ9mTjC2JZVc"
      },
      "outputs": [
        {
          "data": {
            "text/plain": [
              "'j'"
            ]
          },
          "execution_count": 134,
          "metadata": {},
          "output_type": "execute_result"
        }
      ],
      "source": [
        "# this should return \"j\"\n",
        "\n",
        "p19(\"abcdefghij\")"
      ]
    },
    {
      "cell_type": "markdown",
      "metadata": {
        "id": "c2settRmJm80"
      },
      "source": [
        "### Problem 20\n",
        "\n",
        "Set `p20` to be a list of filenames of the form \"data20_X.tsv\" that exist in the current directory.\n",
        "X should be a one digit number from 0 to 9.\n",
        "For example, the filename could be \"data20_0.tsv\", \"data20_9.tsv\", or any other filename using 0 to 9 to set X.\n",
        "\n"
      ]
    },
    {
      "cell_type": "markdown",
      "metadata": {
        "id": "K-hDzXy7LFwK"
      },
      "source": [
        "There are many ways to do this.\n",
        "It can be done using just this week's lessons.\n",
        "You may also find easier ways to check based on libraries.\n",
        "You may use libraries to solve this problem, as long as they are installed by default in our Codespaces environment.\n",
        "(If you try to install other libraries, your answer will likely be rejected by the auto-grader.)"
      ]
    },
    {
      "cell_type": "code",
      "execution_count": 135,
      "metadata": {
        "colab": {
          "base_uri": "https://localhost:8080/"
        },
        "id": "7ZmPXwpsLmrp",
        "outputId": "a279e7ad-6c5c-4d39-8dbd-dfdb48cd286d"
      },
      "outputs": [],
      "source": [
        "# YOUR CHANGES HERE\n",
        "\n",
        "import os\n",
        "import re\n",
        "\n",
        "# Define the regular expression pattern:\n",
        "# ^data20_    -> Starts with \"data20_\"\n",
        "# [0-9]       -> Followed by exactly one digit (0 to 9)\n",
        "# \\.tsv$      -> Ends with \".tsv\" (the dot must be escaped with \\)\n",
        "pattern = re.compile(r\"^data20_[0-9]\\.tsv$\")\n",
        "\n",
        "# YOUR CHANGES HERE\n",
        "# 1. List all files and directories in the current directory\n",
        "all_files = os.listdir('.')\n",
        "\n",
        "# 2. Use a list comprehension to filter the files that match the pattern\n",
        "p20 = [\n",
        "    filename \n",
        "    for filename in all_files \n",
        "    if pattern.match(filename)\n",
        "]"
      ]
    },
    {
      "cell_type": "code",
      "execution_count": 136,
      "metadata": {},
      "outputs": [
        {
          "data": {
            "text/plain": [
              "['data20_0.tsv', 'data20_8.tsv']"
            ]
          },
          "execution_count": 136,
          "metadata": {},
          "output_type": "execute_result"
        }
      ],
      "source": [
        "p20"
      ]
    }
  ],
  "metadata": {
    "colab": {
      "toc_visible": false
    },
    "kernelspec": {
      "display_name": "Python 3",
      "name": "python3"
    },
    "language_info": {
      "codemirror_mode": {
        "name": "ipython",
        "version": 3
      },
      "file_extension": ".py",
      "mimetype": "text/x-python",
      "name": "python",
      "nbconvert_exporter": "python",
      "pygments_lexer": "ipython3",
      "version": "3.12.1"
    }
  },
  "nbformat": 4,
  "nbformat_minor": 0
}
